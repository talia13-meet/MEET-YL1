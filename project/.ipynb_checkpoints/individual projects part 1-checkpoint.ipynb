{
 "metadata": {
  "name": ""
 },
 "nbformat": 3,
 "nbformat_minor": 0,
 "worksheets": [
  {
   "cells": [
    {
     "cell_type": "code",
     "collapsed": false,
     "input": [
      "import csv "
     ],
     "language": "python",
     "metadata": {},
     "outputs": [],
     "prompt_number": 20
    },
    {
     "cell_type": "code",
     "collapsed": false,
     "input": [
      "f=open('percentage_in_poverty.csv','rb')\n",
      "reader = csv.reader(f)\n",
      "index = 0\n",
      "lost=[]\n",
      "for row in reader:\n",
      "    if index == 241:\n",
      "        for x in row:\n",
      "            if x!='':\n",
      "                lost.append(x)\n",
      "       \n",
      "    elif index == 0: \n",
      "        header=row\n",
      "    index += 1\n",
      "\n",
      "percentage=lost[4:] \n",
      "new=lost[:3]\n",
      "years=header[37:-1]\n",
      "print percentage\n",
      "print years\n",
      "\n",
      "a=percentage\n",
      "b=years\n",
      "a=map(float,a)\n",
      "b=map(int,b)   \n",
      "b=b[4:]\n",
      "print a\n",
      "print b\n",
      "\n",
      "fig = plt.figure()\n",
      "ax = fig.add_subplot(111)\n",
      "ax.set_title('Oyster weight and volume')\n",
      "ax.set_xlabel('years')\n",
      "ax.set_ylabel('percentage of poverty')\n",
      "ax.plot(b,a)\n",
      "fig.savefig(\"oyster_with_titles.png\")\n",
      "\n",
      "\n",
      "\n",
      "\n"
     ],
     "language": "python",
     "metadata": {},
     "outputs": [
      {
       "output_type": "stream",
       "stream": "stdout",
       "text": [
        "['54.5', '50.4', '48.7', '46.3', '45.4', '55.4', '62.1', '53.9', '43.7', '36.3', '33.6', '32.6', '31.8', '32.5', '31.6', '25.4']\n",
        "['1994', '1995', '1996', '1997', '1998', '1999', '2000', '2001', '2002', '2003', '2004', '2005', '2006', '2007', '2008', '2009', '2010', '2011', '2012', '2013']\n",
        "[54.5, 50.4, 48.7, 46.3, 45.4, 55.4, 62.1, 53.9, 43.7, 36.3, 33.6, 32.6, 31.8, 32.5, 31.6, 25.4]\n",
        "[1998, 1999, 2000, 2001, 2002, 2003, 2004, 2005, 2006, 2007, 2008, 2009, 2010, 2011, 2012, 2013]\n"
       ]
      },
      {
       "metadata": {},
       "output_type": "pyout",
       "prompt_number": 84,
       "text": [
        "[<matplotlib.lines.Line2D at 0xb0483ac>]"
       ]
      },
      {
       "metadata": {},
       "output_type": "display_data",
       "png": "[encoded data removed]",
       "text": [
        "<matplotlib.figure.Figure at 0xabbd46c>"
       ]
      }
     ],
     "prompt_number": 84
    },
    {
     "cell_type": "code",
     "collapsed": false,
     "input": [],
     "language": "python",
     "metadata": {},
     "outputs": [
      {
       "metadata": {},
       "output_type": "pyout",
       "prompt_number": 6,
       "text": [
        "['\\xef\\xbb\\xbf\"Country Name\"',\n",
        " 'Country Code',\n",
        " 'Indicator Name',\n",
        " 'Indicator Code',\n",
        " '1961',\n",
        " '1962',\n",
        " '1963',\n",
        " '1964',\n",
        " '1965',\n",
        " '1966',\n",
        " '1967',\n",
        " '1968',\n",
        " '1969',\n",
        " '1970',\n",
        " '1971',\n",
        " '1972',\n",
        " '1973',\n",
        " '1974',\n",
        " '1975',\n",
        " '1976',\n",
        " '1977',\n",
        " '1978',\n",
        " '1979',\n",
        " '1980',\n",
        " '1981',\n",
        " '1982',\n",
        " '1983',\n",
        " '1984',\n",
        " '1985',\n",
        " '1986',\n",
        " '1987',\n",
        " '1988',\n",
        " '1989',\n",
        " '1990',\n",
        " '1991',\n",
        " '1992',\n",
        " '1993',\n",
        " '1994',\n",
        " '1995',\n",
        " '1996',\n",
        " '1997',\n",
        " '1998',\n",
        " '1999',\n",
        " '2000',\n",
        " '2001',\n",
        " '2002',\n",
        " '2003',\n",
        " '2004',\n",
        " '2005',\n",
        " '2006',\n",
        " '2007',\n",
        " '2008',\n",
        " '2009',\n",
        " '2010',\n",
        " '2011',\n",
        " '2012',\n",
        " '2013',\n",
        " '']"
       ]
      }
     ],
     "prompt_number": 6
    }
   ],
   "metadata": {}
  }
 ]
}